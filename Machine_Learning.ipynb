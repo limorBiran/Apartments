{
 "cells": [
  {
   "cell_type": "code",
   "execution_count": 14,
   "id": "4c70545c",
   "metadata": {},
   "outputs": [],
   "source": [
    "import pandas as pd\n",
    "import numpy as np\n",
    "import matplotlib as mpl\n",
    "import matplotlib.pyplot as plt\n",
    "import seaborn as sns\n",
    "import os\n",
    "from collections import Counter\n",
    "%matplotlib inline\n",
    "\n",
    "import sklearn\n",
    "from sklearn import linear_model, metrics, preprocessing\n",
    "from sklearn.preprocessing import StandardScaler, MinMaxScaler\n",
    "from sklearn.linear_model import LogisticRegression, LinearRegression\n",
    "from sklearn.metrics import r2_score, f1_score\n",
    "from sklearn.preprocessing import LabelEncoder\n",
    "from sklearn.model_selection import train_test_split\n",
    "\n",
    "pd.options.mode.chained_assignment = None"
   ]
  },
  {
   "cell_type": "code",
   "execution_count": 15,
   "id": "453389e0",
   "metadata": {},
   "outputs": [],
   "source": [
    "RovaBet = pd.read_csv(r'C:\\Users\\limor biran\\Desktop\\תואר\\שנה ג סמסטר א\\מדעי הנתונים\\finalProject\\copyRovaBet.csv',encoding = \"ISO-8859-8\")\n",
    "RovaDaled = pd.read_csv(r'C:\\Users\\limor biran\\Desktop\\תואר\\שנה ג סמסטר א\\מדעי הנתונים\\finalProject\\copyRovaDaled.csv',encoding = \"ISO-8859-8\")\n",
    "RovaYudAlef = pd.read_csv(r'C:\\Users\\limor biran\\Desktop\\תואר\\שנה ג סמסטר א\\מדעי הנתונים\\finalProject\\copyRovaYudAlef.csv',encoding = \"ISO-8859-8\")\n",
    "RovaVav = pd.read_csv(r'C:\\Users\\limor biran\\Desktop\\תואר\\שנה ג סמסטר א\\מדעי הנתונים\\finalProject\\copyRovaVav.csv',encoding = \"ISO-8859-8\")"
   ]
  },
  {
   "cell_type": "code",
   "execution_count": 16,
   "id": "91b1644c",
   "metadata": {},
   "outputs": [],
   "source": [
    "def replace_to_numeric(df):\n",
    "    le = LabelEncoder()\n",
    "    df['Address'] = le.fit_transform(df['Address'])         \n",
    "    return df"
   ]
  },
  {
   "cell_type": "code",
   "execution_count": 17,
   "id": "b52cabc1",
   "metadata": {},
   "outputs": [],
   "source": [
    "def target(df, target_column):\n",
    "    columnsWithoutTarget = df.columns[df.columns != target_column]\n",
    "    targetCol = target_column\n",
    "\n",
    "    X = df[columnsWithoutTarget]\n",
    "    y = df[targetCol]\n",
    "    \n",
    "    return X,y"
   ]
  },
  {
   "cell_type": "code",
   "execution_count": 18,
   "id": "10a3b38f",
   "metadata": {},
   "outputs": [],
   "source": [
    "def train(X,y,test_ratio, rand_state):\n",
    "\n",
    "    x_train, x_test, y_train, y_test = train_test_split(X, y, test_size = test_ratio,random_state= rand_state)\n",
    "                       \n",
    "    return x_train, x_test, y_train, y_test"
   ]
  },
  {
   "cell_type": "code",
   "execution_count": 19,
   "id": "c1a25a35",
   "metadata": {},
   "outputs": [],
   "source": [
    "def train_regression_model(X_train, y_train):\n",
    "    \n",
    "    trained_model = LinearRegression().fit(X_train, y_train)\n",
    "        \n",
    "    return trained_model"
   ]
  },
  {
   "cell_type": "code",
   "execution_count": 20,
   "id": "e998491e",
   "metadata": {},
   "outputs": [],
   "source": [
    "def predict_regression(trained_model, X_test):\n",
    "    \n",
    "    predicted_vals = trained_model.predict(X_test)\n",
    "    \n",
    "    return predicted_vals"
   ]
  },
  {
   "cell_type": "code",
   "execution_count": 21,
   "id": "93414b48",
   "metadata": {},
   "outputs": [],
   "source": [
    "def evaluate_performance(y_test,y_predicted):\n",
    "    \n",
    "    evaluate_value = r2_score(y_test,y_predicted)\n",
    "                            \n",
    "    return evaluate_value  "
   ]
  },
  {
   "cell_type": "markdown",
   "id": "1c950418",
   "metadata": {},
   "source": [
    "Predicting the price of a particular apartment after X years with the help of the model"
   ]
  },
  {
   "cell_type": "code",
   "execution_count": 22,
   "id": "fe93af5a",
   "metadata": {},
   "outputs": [],
   "source": [
    "def Details_of_house_for_inspection(model):\n",
    "    \n",
    "    print('Enter your address:')\n",
    "    Address = input()\n",
    "    print('Enter your square meters:')\n",
    "    Square = input()\n",
    "    print('Enter your num of rooms:')\n",
    "    Rooms = input()\n",
    "    print('Enter your floor:')\n",
    "    Floor = input()\n",
    "    print('Enter your day sale:')\n",
    "    Day = input()\n",
    "    print('Enter your month sale:')\n",
    "    Month = input()\n",
    "    print('Enter your year sale:')\n",
    "    Year = input()\n",
    "\n",
    "    df = pd.DataFrame({\"Address\":Address,\"Number of rooms\":Rooms,\"Floor\":Floor,\"Square\":Square,\"Day\":Day,\"Month\":Month,\"Year\":Year},index=[0])\n",
    "    \n",
    "    df = replace_to_numeric(df)    \n",
    "    \n",
    "    predicted_vals = predict_regression(model,df)  \n",
    "    \n",
    "    print(\"On these dates the value of the house will be: \",int(predicted_vals[0]))"
   ]
  },
  {
   "cell_type": "code",
   "execution_count": 23,
   "id": "c9ca9ec7",
   "metadata": {},
   "outputs": [],
   "source": [
    "target_column = 'Price'"
   ]
  },
  {
   "cell_type": "markdown",
   "id": "075406eb",
   "metadata": {},
   "source": [
    "# Rova-Bet"
   ]
  },
  {
   "cell_type": "code",
   "execution_count": 24,
   "id": "082bb25e",
   "metadata": {},
   "outputs": [
    {
     "name": "stdout",
     "output_type": "stream",
     "text": [
      "0.6133087886381108\n"
     ]
    }
   ],
   "source": [
    "RovaBet = replace_to_numeric(RovaBet)\n",
    "X,y = target(RovaBet,target_column)\n",
    "x_train, x_test, y_train, y_test = train(X,y,0.2,60)\n",
    "model_RovaBet = train_regression_model(x_train,y_train)\n",
    "predicted_vals = predict_regression(model_RovaBet,x_test)\n",
    "evaluate = evaluate_performance(y_test,predicted_vals)\n",
    "print(evaluate)"
   ]
  },
  {
   "cell_type": "markdown",
   "id": "b0cd9f6f",
   "metadata": {},
   "source": [
    "# Improve the model"
   ]
  },
  {
   "cell_type": "code",
   "execution_count": 25,
   "id": "71c6946a",
   "metadata": {},
   "outputs": [],
   "source": [
    "RovaBet = replace_to_numeric(RovaBet)\n",
    "X,y = target(RovaBet,target_column)\n",
    "x_train, x_test, y_train, y_test = train(X,y,0.2,91)\n",
    "model_RovaBet = train_regression_model(x_train,y_train)\n",
    "predicted_vals = predict_regression(model_RovaBet,x_test)\n",
    "evaluate = evaluate_performance(y_test,predicted_vals)"
   ]
  },
  {
   "cell_type": "code",
   "execution_count": 26,
   "id": "2232f6b7",
   "metadata": {},
   "outputs": [
    {
     "name": "stdout",
     "output_type": "stream",
     "text": [
      "evaluate = 0.7606717244650307\n"
     ]
    },
    {
     "data": {
      "image/png": "[encoded data removed]",
      "text/plain": [
       "<Figure size 432x288 with 1 Axes>"
      ]
     },
     "metadata": {
      "needs_background": "light"
     },
     "output_type": "display_data"
    }
   ],
   "source": [
    "print(\"evaluate =\",evaluate)\n",
    "plt.scatter(y_test, predicted_vals)\n",
    "plt.plot(y_test, y_test, color='red', linewidth=3)\n",
    "plt.title('Linear regression on Rova-Bet data set')\n",
    "plt.xlabel('Real values')\n",
    "plt.ylabel('Prediction')\n",
    "plt.show()"
   ]
  },
  {
   "cell_type": "markdown",
   "id": "2ecf96b5",
   "metadata": {},
   "source": [
    "# Rova-Daled"
   ]
  },
  {
   "cell_type": "code",
   "execution_count": 27,
   "id": "7af2475e",
   "metadata": {},
   "outputs": [
    {
     "name": "stdout",
     "output_type": "stream",
     "text": [
      "0.7119083535959391\n"
     ]
    }
   ],
   "source": [
    "RovaDaled = replace_to_numeric(RovaDaled)\n",
    "X,y = target(RovaDaled,target_column)\n",
    "x_train, x_test, y_train, y_test = train(X,y,0.2,24)\n",
    "model_RovaDaled = train_regression_model(x_train,y_train)\n",
    "predicted_vals = predict_regression(model_RovaDaled,x_test)\n",
    "evaluate = evaluate_performance(y_test,predicted_vals)\n",
    "print(evaluate)"
   ]
  },
  {
   "cell_type": "markdown",
   "id": "b5eb721f",
   "metadata": {},
   "source": [
    "# Improve the model"
   ]
  },
  {
   "cell_type": "code",
   "execution_count": 28,
   "id": "3cf255b0",
   "metadata": {},
   "outputs": [],
   "source": [
    "RovaDaled = replace_to_numeric(RovaDaled)\n",
    "X,y = target(RovaDaled,target_column)\n",
    "x_train, x_test, y_train, y_test = train(X,y,0.2,41)\n",
    "model_RovaDaled = train_regression_model(x_train,y_train)\n",
    "predicted_vals = predict_regression(model_RovaDaled,x_test)\n",
    "evaluate = evaluate_performance(y_test,predicted_vals)"
   ]
  },
  {
   "cell_type": "code",
   "execution_count": 29,
   "id": "9eab66ee",
   "metadata": {},
   "outputs": [
    {
     "name": "stdout",
     "output_type": "stream",
     "text": [
      "evaluate = 0.8112848448635729\n"
     ]
    },
    {
     "data": {
      "image/png": "[encoded data removed]",
      "text/plain": [
       "<Figure size 432x288 with 1 Axes>"
      ]
     },
     "metadata": {
      "needs_background": "light"
     },
     "output_type": "display_data"
    }
   ],
   "source": [
    "print(\"evaluate =\",evaluate)\n",
    "plt.scatter(y_test, predicted_vals)\n",
    "plt.plot(y_test, y_test, color='red', linewidth=3)\n",
    "plt.title('Linear regression on Rova-Daled data set')\n",
    "plt.xlabel('Real values')\n",
    "plt.ylabel('Prediction')\n",
    "plt.show()"
   ]
  },
  {
   "cell_type": "markdown",
   "id": "43d5092c",
   "metadata": {},
   "source": [
    "# Rova-Yud-Alef"
   ]
  },
  {
   "cell_type": "code",
   "execution_count": 30,
   "id": "72b8ba4a",
   "metadata": {},
   "outputs": [
    {
     "name": "stdout",
     "output_type": "stream",
     "text": [
      "0.7423119491842551\n"
     ]
    }
   ],
   "source": [
    "RovaYudAlef = replace_to_numeric(RovaYudAlef)\n",
    "X,y = target(RovaYudAlef,target_column)\n",
    "x_train, x_test, y_train, y_test = train(X,y,0.2,39)\n",
    "model_RovaYudAlef = train_regression_model(x_train,y_train)\n",
    "predicted_vals = predict_regression(model_RovaYudAlef,x_test)\n",
    "evaluate = evaluate_performance(y_test,predicted_vals)\n",
    "print(evaluate)"
   ]
  },
  {
   "cell_type": "markdown",
   "id": "23fa6888",
   "metadata": {},
   "source": [
    " # Improve the model"
   ]
  },
  {
   "cell_type": "code",
   "execution_count": 31,
   "id": "ef1a1433",
   "metadata": {},
   "outputs": [],
   "source": [
    "RovaYudAlef = replace_to_numeric(RovaYudAlef)\n",
    "X,y = target(RovaYudAlef,target_column)\n",
    "x_train, x_test, y_train, y_test = train(X,y,0.2,17)\n",
    "model_RovaYudAlef = train_regression_model(x_train,y_train)\n",
    "predicted_vals = predict_regression(model_RovaYudAlef,x_test)\n",
    "evaluate = evaluate_performance(y_test,predicted_vals)"
   ]
  },
  {
   "cell_type": "code",
   "execution_count": 32,
   "id": "ca5eb2e7",
   "metadata": {},
   "outputs": [
    {
     "name": "stdout",
     "output_type": "stream",
     "text": [
      "evaluate = 0.8684434571763812\n"
     ]
    },
    {
     "data": {
      "image/png": "[encoded data removed]",
      "text/plain": [
       "<Figure size 432x288 with 1 Axes>"
      ]
     },
     "metadata": {
      "needs_background": "light"
     },
     "output_type": "display_data"
    }
   ],
   "source": [
    "print(\"evaluate =\",evaluate)\n",
    "plt.scatter(y_test, predicted_vals)\n",
    "plt.plot(y_test, y_test, color='red', linewidth=3)\n",
    "plt.title('Linear regression on Rova-Yud-Alef data set')\n",
    "plt.xlabel('Real values')\n",
    "plt.ylabel('Prediction')\n",
    "plt.show()"
   ]
  },
  {
   "cell_type": "markdown",
   "id": "b1040d4a",
   "metadata": {},
   "source": [
    "# Rova-Vav"
   ]
  },
  {
   "cell_type": "code",
   "execution_count": 33,
   "id": "93dc0648",
   "metadata": {},
   "outputs": [
    {
     "name": "stdout",
     "output_type": "stream",
     "text": [
      "0.6452170808357618\n"
     ]
    }
   ],
   "source": [
    "RovaVav = replace_to_numeric(RovaVav)\n",
    "X,y = target(RovaVav,target_column)\n",
    "x_train, x_test, y_train, y_test = train(X,y,0.2,5)\n",
    "model_RovaVav = train_regression_model(x_train,y_train)\n",
    "predicted_vals = predict_regression(model_RovaVav,x_test)\n",
    "evaluate = evaluate_performance(y_test,predicted_vals)\n",
    "print(evaluate)"
   ]
  },
  {
   "cell_type": "markdown",
   "id": "12c854ba",
   "metadata": {},
   "source": [
    "# Improve the model"
   ]
  },
  {
   "cell_type": "code",
   "execution_count": 34,
   "id": "6df85ebf",
   "metadata": {},
   "outputs": [],
   "source": [
    "RovaVav = replace_to_numeric(RovaVav)\n",
    "X,y = target(RovaVav,target_column)\n",
    "x_train, x_test, y_train, y_test = train(X,y,0.2,37)\n",
    "model_RovaVav = train_regression_model(x_train,y_train)\n",
    "predicted_vals = predict_regression(model_RovaVav,x_test)\n",
    "evaluate = evaluate_performance(y_test,predicted_vals)"
   ]
  },
  {
   "cell_type": "code",
   "execution_count": 35,
   "id": "59e6bba0",
   "metadata": {},
   "outputs": [
    {
     "name": "stdout",
     "output_type": "stream",
     "text": [
      "evaluate = 0.782869743073831\n"
     ]
    },
    {
     "data": {
      "image/png": "[encoded data removed]",
      "text/plain": [
       "<Figure size 432x288 with 1 Axes>"
      ]
     },
     "metadata": {
      "needs_background": "light"
     },
     "output_type": "display_data"
    }
   ],
   "source": [
    "print(\"evaluate =\",evaluate)\n",
    "plt.scatter(y_test, predicted_vals)\n",
    "plt.plot(y_test, y_test, color='red', linewidth=3)\n",
    "plt.title('Linear regression on Rova-Vav data set')\n",
    "plt.xlabel('Real values')\n",
    "plt.ylabel('Prediction')\n",
    "plt.show()"
   ]
  },
  {
   "cell_type": "markdown",
   "id": "f7ba6a5a",
   "metadata": {},
   "source": [
    "Example"
   ]
  },
  {
   "cell_type": "code",
   "execution_count": 36,
   "id": "bea8dd44",
   "metadata": {},
   "outputs": [
    {
     "name": "stdout",
     "output_type": "stream",
     "text": [
      "Enter your address:\n",
      "מצדה 106\n",
      "Enter your square meters:\n",
      "79\n",
      "Enter your num of rooms:\n",
      "4\n",
      "Enter your floor:\n",
      "3\n",
      "Enter your day sale:\n",
      "15\n",
      "Enter your month sale:\n",
      "12\n",
      "Enter your year sale:\n",
      "2020\n",
      "On these dates the value of the house will be:  1565192\n"
     ]
    }
   ],
   "source": [
    "Details_of_house_for_inspection(model_RovaYudAlef)"
   ]
  },
  {
   "cell_type": "code",
   "execution_count": 38,
   "id": "2cfe92c0",
   "metadata": {},
   "outputs": [
    {
     "name": "stdout",
     "output_type": "stream",
     "text": [
      "Enter your address:\n",
      "מצדה 106\n",
      "Enter your square meters:\n",
      "79\n",
      "Enter your num of rooms:\n",
      "4\n",
      "Enter your floor:\n",
      "3\n",
      "Enter your day sale:\n",
      "15\n",
      "Enter your month sale:\n",
      "12\n",
      "Enter your year sale:\n",
      "2025\n",
      "On these dates the value of the house will be:  1867328\n"
     ]
    }
   ],
   "source": [
    "Details_of_house_for_inspection(model_RovaYudAlef)"
   ]
  }
 ],
 "metadata": {
  "kernelspec": {
   "display_name": "Python 3 (ipykernel)",
   "language": "python",
   "name": "python3"
  },
  "language_info": {
   "codemirror_mode": {
    "name": "ipython",
    "version": 3
   },
   "file_extension": ".py",
   "mimetype": "text/x-python",
   "name": "python",
   "nbconvert_exporter": "python",
   "pygments_lexer": "ipython3",
   "version": "3.9.7"
  }
 },
 "nbformat": 4,
 "nbformat_minor": 5
}
